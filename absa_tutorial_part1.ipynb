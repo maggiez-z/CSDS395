{
  "nbformat": 4,
  "nbformat_minor": 0,
  "metadata": {
    "accelerator": "GPU",
    "colab": {
      "name": "Copy of absa_tutorial_part1",
      "provenance": [],
      "collapsed_sections": []
    },
    "kernelspec": {
      "display_name": "Python 3",
      "name": "python3"
    }
  },
  "cells": [
    {
      "cell_type": "markdown",
      "metadata": {
        "id": "cXsa1nW2Bkb8"
      },
      "source": [
        "# Where should I eat after the pandemic? (Part 1/2)\n",
        "## Using Transformers for Decision Making with Aspect-Based Sentiment Analysis.\n",
        "\n",
        "**Make sure to switch to a GPU enabled runtime!**\n",
        "\n"
      ]
    },
    {
      "cell_type": "code",
      "metadata": {
        "id": "XIGTowOe-nR0",
        "colab": {
          "base_uri": "https://localhost:8080/"
        },
        "outputId": "9c469be9-8e0c-4d73-b024-2fb30ca6208d"
      },
      "source": [
        "!pip install transformers\n",
        "!pip install https://github.com/ufoym/imbalanced-dataset-sampler/archive/master.zip"
      ],
      "execution_count": null,
      "outputs": [
        {
          "output_type": "stream",
          "name": "stdout",
          "text": [
            "Requirement already satisfied: transformers in /usr/local/lib/python3.7/dist-packages (4.11.3)\n",
            "Requirement already satisfied: tokenizers<0.11,>=0.10.1 in /usr/local/lib/python3.7/dist-packages (from transformers) (0.10.3)\n",
            "Requirement already satisfied: importlib-metadata in /usr/local/lib/python3.7/dist-packages (from transformers) (4.8.1)\n",
            "Requirement already satisfied: requests in /usr/local/lib/python3.7/dist-packages (from transformers) (2.23.0)\n",
            "Requirement already satisfied: numpy>=1.17 in /usr/local/lib/python3.7/dist-packages (from transformers) (1.19.5)\n",
            "Requirement already satisfied: tqdm>=4.27 in /usr/local/lib/python3.7/dist-packages (from transformers) (4.62.3)\n",
            "Requirement already satisfied: sacremoses in /usr/local/lib/python3.7/dist-packages (from transformers) (0.0.46)\n",
            "Requirement already satisfied: packaging>=20.0 in /usr/local/lib/python3.7/dist-packages (from transformers) (21.0)\n",
            "Requirement already satisfied: regex!=2019.12.17 in /usr/local/lib/python3.7/dist-packages (from transformers) (2019.12.20)\n",
            "Requirement already satisfied: filelock in /usr/local/lib/python3.7/dist-packages (from transformers) (3.3.0)\n",
            "Requirement already satisfied: pyyaml>=5.1 in /usr/local/lib/python3.7/dist-packages (from transformers) (5.4.1)\n",
            "Requirement already satisfied: huggingface-hub>=0.0.17 in /usr/local/lib/python3.7/dist-packages (from transformers) (0.0.19)\n",
            "Requirement already satisfied: typing-extensions in /usr/local/lib/python3.7/dist-packages (from huggingface-hub>=0.0.17->transformers) (3.7.4.3)\n",
            "Requirement already satisfied: pyparsing>=2.0.2 in /usr/local/lib/python3.7/dist-packages (from packaging>=20.0->transformers) (2.4.7)\n",
            "Requirement already satisfied: zipp>=0.5 in /usr/local/lib/python3.7/dist-packages (from importlib-metadata->transformers) (3.6.0)\n",
            "Requirement already satisfied: urllib3!=1.25.0,!=1.25.1,<1.26,>=1.21.1 in /usr/local/lib/python3.7/dist-packages (from requests->transformers) (1.24.3)\n",
            "Requirement already satisfied: certifi>=2017.4.17 in /usr/local/lib/python3.7/dist-packages (from requests->transformers) (2021.5.30)\n",
            "Requirement already satisfied: idna<3,>=2.5 in /usr/local/lib/python3.7/dist-packages (from requests->transformers) (2.10)\n",
            "Requirement already satisfied: chardet<4,>=3.0.2 in /usr/local/lib/python3.7/dist-packages (from requests->transformers) (3.0.4)\n",
            "Requirement already satisfied: six in /usr/local/lib/python3.7/dist-packages (from sacremoses->transformers) (1.15.0)\n",
            "Requirement already satisfied: click in /usr/local/lib/python3.7/dist-packages (from sacremoses->transformers) (7.1.2)\n",
            "Requirement already satisfied: joblib in /usr/local/lib/python3.7/dist-packages (from sacremoses->transformers) (1.0.1)\n",
            "Collecting https://github.com/ufoym/imbalanced-dataset-sampler/archive/master.zip\n",
            "  Using cached https://github.com/ufoym/imbalanced-dataset-sampler/archive/master.zip\n",
            "Requirement already satisfied: torch>=1.3 in /usr/local/lib/python3.7/dist-packages (from torchsampler==0.1.1) (1.9.0+cu111)\n",
            "Requirement already satisfied: torchvision>=0.5 in /usr/local/lib/python3.7/dist-packages (from torchsampler==0.1.1) (0.10.0+cu111)\n",
            "Requirement already satisfied: pandas in /usr/local/lib/python3.7/dist-packages (from torchsampler==0.1.1) (1.1.5)\n",
            "Requirement already satisfied: typing-extensions in /usr/local/lib/python3.7/dist-packages (from torch>=1.3->torchsampler==0.1.1) (3.7.4.3)\n",
            "Requirement already satisfied: pillow>=5.3.0 in /usr/local/lib/python3.7/dist-packages (from torchvision>=0.5->torchsampler==0.1.1) (7.1.2)\n",
            "Requirement already satisfied: numpy in /usr/local/lib/python3.7/dist-packages (from torchvision>=0.5->torchsampler==0.1.1) (1.19.5)\n",
            "Requirement already satisfied: pytz>=2017.2 in /usr/local/lib/python3.7/dist-packages (from pandas->torchsampler==0.1.1) (2018.9)\n",
            "Requirement already satisfied: python-dateutil>=2.7.3 in /usr/local/lib/python3.7/dist-packages (from pandas->torchsampler==0.1.1) (2.8.2)\n",
            "Requirement already satisfied: six>=1.5 in /usr/local/lib/python3.7/dist-packages (from python-dateutil>=2.7.3->pandas->torchsampler==0.1.1) (1.15.0)\n"
          ]
        }
      ]
    },
    {
      "cell_type": "code",
      "metadata": {
        "id": "Ig1QOCch_Nzp"
      },
      "source": [
        "from typing import List\n",
        "\n",
        "import matplotlib.pyplot as plt\n",
        "import numpy as np\n",
        "import pandas as pd\n",
        "import requests\n",
        "import seaborn as sns\n",
        "import torch\n",
        "import torchvision\n",
        "from bs4 import BeautifulSoup\n",
        "from sklearn.metrics import confusion_matrix\n",
        "from torch.utils.data import random_split\n",
        "from transformers import AutoTokenizer, AutoModelForSequenceClassification, AdamW\n",
        "from tqdm.autonotebook import tqdm\n",
        "from torch.utils.data.sampler import WeightedRandomSampler"
      ],
      "execution_count": null,
      "outputs": []
    },
    {
      "cell_type": "code",
      "metadata": {
        "id": "LGZakUugEt8M"
      },
      "source": [
        "def preprocess(bs: BeautifulSoup) -> List[dict]:\n",
        "\n",
        "    data = []\n",
        "\n",
        "    for s in bs.find_all(\"sentence\"):\n",
        "        sid = s.get(\"id\")\n",
        "        s1 = s.find_all(\"text\")[0].contents[0]\n",
        "\n",
        "        records = []\n",
        "\n",
        "        categories = [\"food\", \"service\", \"price\", \"ambience\", \"anecdotes\"]\n",
        "\n",
        "        labels = {c: \"none\" for c in categories}\n",
        "\n",
        "        for ac in s.find_all(\"aspectcategory\"):\n",
        "            category = ac.get(\"category\")\n",
        "            polarity = ac.get(\"polarity\")\n",
        "\n",
        "            if category.startswith(\"anecdotes\"):\n",
        "                category = \"anecdotes\"\n",
        "\n",
        "            labels[category] = polarity\n",
        "\n",
        "        records = 5*[None]\n",
        "        for i, (c, label) in enumerate(labels.items()):\n",
        "            data += [{\n",
        "                \"sentence_id\": sid,\n",
        "                \"s1\": s1,\n",
        "                \"s2\": c,\n",
        "                \"label\": label\n",
        "            }]\n",
        "\n",
        "    return data\n",
        "\n",
        "\n",
        "def load_data(model_name: str):\n",
        "    base_url = \"https://raw.githubusercontent.com/mwbrulhardt/yelp-absa/main/data/semeval2014\"\n",
        "    bs_train = BeautifulSoup(requests.get(base_url + \"/Restaurants_Train.xml\").content)\n",
        "    bs_test = BeautifulSoup(requests.get(base_url + \"/Restaurants_Test_Gold.xml\").content)\n",
        "    \n",
        "    frames = {\n",
        "        \"train\": pd.DataFrame(preprocess(bs_train)),\n",
        "        \"test\": pd.DataFrame(preprocess(bs_test))\n",
        "    }\n",
        "\n",
        "    tokenizer = AutoTokenizer.from_pretrained(model_name)\n",
        "\n",
        "    labels = [\"none\", \"negative\", \"neutral\", \"positive\", \"conflict\"]\n",
        "    label_map = {label: i for (i, label) in enumerate(labels)}\n",
        "\n",
        "    datasets = {\n",
        "        \"train\": None,\n",
        "        \"test\": None\n",
        "    }\n",
        "\n",
        "    for k in datasets:\n",
        "        data = frames[k]\n",
        "        labels = list(data.label.apply(lambda x: label_map[x]))\n",
        "\n",
        "        encoded = tokenizer(\n",
        "            list(data.s1),\n",
        "            list(data.s2),\n",
        "            padding=True,\n",
        "            truncation=True,\n",
        "            max_length=512,\n",
        "            return_tensors=\"pt\"\n",
        "        )\n",
        "        datasets[k] = torch.utils.data.TensorDataset(\n",
        "            encoded[\"input_ids\"],\n",
        "            encoded[\"attention_mask\"],\n",
        "            torch.tensor(labels, dtype=torch.long).reshape(-1, 1)\n",
        "        )\n",
        "\n",
        "    return datasets[\"train\"], datasets[\"test\"]\n",
        "\n",
        "\n",
        "def get_class_distribution(dataset_obj):\n",
        "    count_dict = {k:0 for k,v in dataset_obj.class_to_idx.items()}\n",
        "    \n",
        "    for element in dataset_obj:\n",
        "        y_lbl = element[1]\n",
        "        y_lbl = idx2class[y_lbl]\n",
        "        count_dict[y_lbl] += 1\n",
        "            \n",
        "    return count_dict"
      ],
      "execution_count": null,
      "outputs": []
    },
    {
      "cell_type": "markdown",
      "metadata": {
        "id": "g7YGkCXo-v97"
      },
      "source": [
        "## Train"
      ]
    },
    {
      "cell_type": "code",
      "metadata": {
        "id": "FO8l1sPF-IW0"
      },
      "source": [
        "def acc(confusion: np.array) -> float:\n",
        "    return confusion.trace() / confusion.sum().sum()\n",
        "\n",
        "\n",
        "def mcc(confusion: np.array) -> float:\n",
        "    t = confusion.sum(0)\n",
        "    p = confusion.sum(1)\n",
        "    c = confusion.trace()\n",
        "    s = confusion.sum().sum()\n",
        "\n",
        "    num = c*s - t.dot(p)\n",
        "    den = np.sqrt(s**2 - p.dot(p))*np.sqrt(s**2 - t.dot(t))\n",
        "\n",
        "    return num / den\n",
        "\n",
        "\n",
        "def train_absa(config: dict, balanced_classes=False):\n",
        "    device = torch.device(\"cuda\" if torch.cuda.is_available() else \"cpu\")\n",
        "    model_id = config[\"model_id\"]\n",
        "\n",
        "    num_labels = len(config[\"labels\"])\n",
        "    numeric_labels = list(range(num_labels))\n",
        "\n",
        "    model = AutoModelForSequenceClassification.from_pretrained(model_id, num_labels=num_labels)\n",
        "    model.train()\n",
        "    model.to(device)\n",
        "\n",
        "    optimizer = AdamW(\n",
        "        model.parameters(),\n",
        "        lr=config[\"lr\"]\n",
        "    )\n",
        "\n",
        "    train_set, test_set = load_data(model_id)\n",
        "\n",
        "    cutoff = int(0.8 * len(train_set))\n",
        "    train_subset, val_subset = random_split(train_set, [cutoff, len(train_set) - cutoff])\n",
        "\n",
        "    sampler = None\n",
        "\n",
        "    if balanced_classes:\n",
        "      class_labels = [el[2].numpy()[0] for el in train_subset]\n",
        "      class_sample_count = np.array(\n",
        "      [len(np.where(class_labels == t)[0]) for t in np.unique(class_labels)])\n",
        "      weight = 1. / class_sample_count\n",
        "      samples_weight = np.array([weight[t] for t in class_labels])\n",
        "      samples_weight = torch.from_numpy(samples_weight)\n",
        "      samples_weight = samples_weight.double()\n",
        "      sampler = WeightedRandomSampler(samples_weight, len(samples_weight))\n",
        "\n",
        "    train_loader = torch.utils.data.DataLoader(\n",
        "        train_subset,\n",
        "        batch_size=int(config[\"batch_size\"]),\n",
        "        shuffle=True if sampler is None else False,\n",
        "        sampler=sampler\n",
        "    )\n",
        "    val_loader = torch.utils.data.DataLoader(\n",
        "        val_subset,\n",
        "        batch_size=int(config[\"batch_size\"]),\n",
        "        shuffle=True\n",
        "    )\n",
        "\n",
        "    # Train\n",
        "    total = (cutoff // config[\"batch_size\"]) + int(cutoff % config[\"batch_size\"] != 0)\n",
        "\n",
        "    for epoch in range(config[\"epochs\"]):\n",
        "\n",
        "        for i, (input_ids, attention_mask, labels) in tqdm(enumerate(train_loader), total=total):\n",
        "          \n",
        "            optimizer.zero_grad()\n",
        "\n",
        "            output = model(\n",
        "                input_ids=input_ids.to(device),\n",
        "                attention_mask=attention_mask.to(device),\n",
        "                labels=labels.to(device)\n",
        "            )\n",
        "            loss = output[\"loss\"]\n",
        "\n",
        "            loss.backward()\n",
        "            optimizer.step()\n",
        "\n",
        "        # Validation\n",
        "        running_loss = 0.0\n",
        "        steps = 0\n",
        "        confusion = np.zeros([num_labels, num_labels])\n",
        "\n",
        "        for i, (input_ids, attention_mask, labels) in enumerate(val_loader):\n",
        "\n",
        "            with torch.no_grad():\n",
        "\n",
        "                output = model(\n",
        "                    input_ids=input_ids.to(device),\n",
        "                    attention_mask=attention_mask.to(device),\n",
        "                    labels=labels.to(device)\n",
        "                )\n",
        "                loss, logits = output[\"loss\"], output[\"logits\"]\n",
        "\n",
        "                confusion += confusion_matrix(\n",
        "                    y_true=labels.flatten().cpu(), \n",
        "                    y_pred=torch.softmax(logits, -1).argmax(-1).cpu(), \n",
        "                    labels=numeric_labels\n",
        "                )\n",
        "\n",
        "                running_loss += loss.cpu().numpy()\n",
        "                steps += 1\n",
        "\n",
        "        summary = dict(\n",
        "            loss=(running_loss / steps),\n",
        "            accuracy=acc(confusion),\n",
        "            mcc=mcc(confusion)\n",
        "        )\n",
        "        print(summary)\n",
        "\n",
        "\n",
        "    torch.save(model, f\"./absa-{model_id.replace('/', '_')}.pt\")\n",
        "    print(\"Finished training.\")\n",
        "\n",
        "    return model"
      ],
      "execution_count": null,
      "outputs": []
    },
    {
      "cell_type": "code",
      "metadata": {
        "id": "nEQYHL8DrYA6"
      },
      "source": [
        "configs = [\n",
        "    {\n",
        "        \"model_id\": \"prajjwal1/bert-tiny\",\n",
        "        \"model_name\": \"bert-tiny\",\n",
        "        \"epochs\": 15,\n",
        "        \"batch_size\": 24,\n",
        "        \"lr\": 2e-5\n",
        "    },\n",
        "    {\n",
        "        \"model_id\": \"prajjwal1/bert-small\",\n",
        "        \"model_name\": \"bert-small\",\n",
        "        \"epochs\": 10,\n",
        "        \"batch_size\": 24,\n",
        "        \"lr\": 2e-5\n",
        "    },\n",
        "    {\n",
        "        \"model_id\": \"distilbert-base-uncased\",\n",
        "        \"model_name\": \"distilbert\",\n",
        "        \"epochs\": 4,\n",
        "        \"batch_size\": 24,\n",
        "        \"lr\": 2e-5\n",
        "    },\n",
        "    {\n",
        "        \"model_id\": \"bert-base-uncased\",\n",
        "        \"model_name\": \"bert\",\n",
        "        \"epochs\": 4,\n",
        "        \"batch_size\": 24,\n",
        "        \"lr\": 2e-5\n",
        "    }\n",
        "]\n",
        "\n",
        "config = configs[2]\n",
        "config[\"labels\"] = [\"none\", \"negative\", \"neutral\", \"positive\", \"conflict\"]"
      ],
      "execution_count": null,
      "outputs": []
    },
    {
      "cell_type": "code",
      "metadata": {
        "id": "pw7VKEEF8C3r",
        "colab": {
          "base_uri": "https://localhost:8080/",
          "height": 443,
          "referenced_widgets": [
            "88b477e6db25499280436aeff6e84e24"
          ]
        },
        "outputId": "1af8285a-685a-4af6-dcec-cb3af68502b1"
      },
      "source": [
        "model = train_absa(config, balanced_classes=True)"
      ],
      "execution_count": null,
      "outputs": [
        {
          "output_type": "stream",
          "name": "stderr",
          "text": [
            "Some weights of the model checkpoint at distilbert-base-uncased were not used when initializing DistilBertForSequenceClassification: ['vocab_projector.weight', 'vocab_layer_norm.bias', 'vocab_transform.bias', 'vocab_transform.weight', 'vocab_layer_norm.weight', 'vocab_projector.bias']\n",
            "- This IS expected if you are initializing DistilBertForSequenceClassification from the checkpoint of a model trained on another task or with another architecture (e.g. initializing a BertForSequenceClassification model from a BertForPreTraining model).\n",
            "- This IS NOT expected if you are initializing DistilBertForSequenceClassification from the checkpoint of a model that you expect to be exactly identical (initializing a BertForSequenceClassification model from a BertForSequenceClassification model).\n",
            "Some weights of DistilBertForSequenceClassification were not initialized from the model checkpoint at distilbert-base-uncased and are newly initialized: ['classifier.weight', 'pre_classifier.weight', 'classifier.bias', 'pre_classifier.bias']\n",
            "You should probably TRAIN this model on a down-stream task to be able to use it for predictions and inference.\n"
          ]
        },
        {
          "output_type": "display_data",
          "data": {
            "application/vnd.jupyter.widget-view+json": {
              "model_id": "88b477e6db25499280436aeff6e84e24",
              "version_minor": 0,
              "version_major": 2
            },
            "text/plain": [
              "  0%|          | 0/508 [00:00<?, ?it/s]"
            ]
          },
          "metadata": {}
        },
        {
          "output_type": "error",
          "ename": "KeyboardInterrupt",
          "evalue": "ignored",
          "traceback": [
            "\u001b[0;31m---------------------------------------------------------------------------\u001b[0m",
            "\u001b[0;31mKeyboardInterrupt\u001b[0m                         Traceback (most recent call last)",
            "\u001b[0;32m<ipython-input-16-34323e81f019>\u001b[0m in \u001b[0;36m<module>\u001b[0;34m()\u001b[0m\n\u001b[0;32m----> 1\u001b[0;31m \u001b[0mmodel\u001b[0m \u001b[0;34m=\u001b[0m \u001b[0mtrain_absa\u001b[0m\u001b[0;34m(\u001b[0m\u001b[0mconfig\u001b[0m\u001b[0;34m,\u001b[0m \u001b[0mbalanced_classes\u001b[0m\u001b[0;34m=\u001b[0m\u001b[0;32mTrue\u001b[0m\u001b[0;34m)\u001b[0m\u001b[0;34m\u001b[0m\u001b[0;34m\u001b[0m\u001b[0m\n\u001b[0m",
            "\u001b[0;32m<ipython-input-14-ece8628ea6ec>\u001b[0m in \u001b[0;36mtrain_absa\u001b[0;34m(config, balanced_classes)\u001b[0m\n\u001b[1;32m     77\u001b[0m \u001b[0;34m\u001b[0m\u001b[0m\n\u001b[1;32m     78\u001b[0m             \u001b[0mloss\u001b[0m\u001b[0;34m.\u001b[0m\u001b[0mbackward\u001b[0m\u001b[0;34m(\u001b[0m\u001b[0;34m)\u001b[0m\u001b[0;34m\u001b[0m\u001b[0;34m\u001b[0m\u001b[0m\n\u001b[0;32m---> 79\u001b[0;31m             \u001b[0moptimizer\u001b[0m\u001b[0;34m.\u001b[0m\u001b[0mstep\u001b[0m\u001b[0;34m(\u001b[0m\u001b[0;34m)\u001b[0m\u001b[0;34m\u001b[0m\u001b[0;34m\u001b[0m\u001b[0m\n\u001b[0m\u001b[1;32m     80\u001b[0m \u001b[0;34m\u001b[0m\u001b[0m\n\u001b[1;32m     81\u001b[0m         \u001b[0;31m# Validation\u001b[0m\u001b[0;34m\u001b[0m\u001b[0;34m\u001b[0m\u001b[0;34m\u001b[0m\u001b[0m\n",
            "\u001b[0;32m/usr/local/lib/python3.7/dist-packages/torch/optim/optimizer.py\u001b[0m in \u001b[0;36mwrapper\u001b[0;34m(*args, **kwargs)\u001b[0m\n\u001b[1;32m     86\u001b[0m                 \u001b[0mprofile_name\u001b[0m \u001b[0;34m=\u001b[0m \u001b[0;34m\"Optimizer.step#{}.step\"\u001b[0m\u001b[0;34m.\u001b[0m\u001b[0mformat\u001b[0m\u001b[0;34m(\u001b[0m\u001b[0mobj\u001b[0m\u001b[0;34m.\u001b[0m\u001b[0m__class__\u001b[0m\u001b[0;34m.\u001b[0m\u001b[0m__name__\u001b[0m\u001b[0;34m)\u001b[0m\u001b[0;34m\u001b[0m\u001b[0;34m\u001b[0m\u001b[0m\n\u001b[1;32m     87\u001b[0m                 \u001b[0;32mwith\u001b[0m \u001b[0mtorch\u001b[0m\u001b[0;34m.\u001b[0m\u001b[0mautograd\u001b[0m\u001b[0;34m.\u001b[0m\u001b[0mprofiler\u001b[0m\u001b[0;34m.\u001b[0m\u001b[0mrecord_function\u001b[0m\u001b[0;34m(\u001b[0m\u001b[0mprofile_name\u001b[0m\u001b[0;34m)\u001b[0m\u001b[0;34m:\u001b[0m\u001b[0;34m\u001b[0m\u001b[0;34m\u001b[0m\u001b[0m\n\u001b[0;32m---> 88\u001b[0;31m                     \u001b[0;32mreturn\u001b[0m \u001b[0mfunc\u001b[0m\u001b[0;34m(\u001b[0m\u001b[0;34m*\u001b[0m\u001b[0margs\u001b[0m\u001b[0;34m,\u001b[0m \u001b[0;34m**\u001b[0m\u001b[0mkwargs\u001b[0m\u001b[0;34m)\u001b[0m\u001b[0;34m\u001b[0m\u001b[0;34m\u001b[0m\u001b[0m\n\u001b[0m\u001b[1;32m     89\u001b[0m             \u001b[0;32mreturn\u001b[0m \u001b[0mwrapper\u001b[0m\u001b[0;34m\u001b[0m\u001b[0;34m\u001b[0m\u001b[0m\n\u001b[1;32m     90\u001b[0m \u001b[0;34m\u001b[0m\u001b[0m\n",
            "\u001b[0;32m/usr/local/lib/python3.7/dist-packages/transformers/optimization.py\u001b[0m in \u001b[0;36mstep\u001b[0;34m(self, closure)\u001b[0m\n\u001b[1;32m    348\u001b[0m                 \u001b[0;31m# In-place operations to update the averages at the same time\u001b[0m\u001b[0;34m\u001b[0m\u001b[0;34m\u001b[0m\u001b[0;34m\u001b[0m\u001b[0m\n\u001b[1;32m    349\u001b[0m                 \u001b[0mexp_avg\u001b[0m\u001b[0;34m.\u001b[0m\u001b[0mmul_\u001b[0m\u001b[0;34m(\u001b[0m\u001b[0mbeta1\u001b[0m\u001b[0;34m)\u001b[0m\u001b[0;34m.\u001b[0m\u001b[0madd_\u001b[0m\u001b[0;34m(\u001b[0m\u001b[0mgrad\u001b[0m\u001b[0;34m,\u001b[0m \u001b[0malpha\u001b[0m\u001b[0;34m=\u001b[0m\u001b[0;34m(\u001b[0m\u001b[0;36m1.0\u001b[0m \u001b[0;34m-\u001b[0m \u001b[0mbeta1\u001b[0m\u001b[0;34m)\u001b[0m\u001b[0;34m)\u001b[0m\u001b[0;34m\u001b[0m\u001b[0;34m\u001b[0m\u001b[0m\n\u001b[0;32m--> 350\u001b[0;31m                 \u001b[0mexp_avg_sq\u001b[0m\u001b[0;34m.\u001b[0m\u001b[0mmul_\u001b[0m\u001b[0;34m(\u001b[0m\u001b[0mbeta2\u001b[0m\u001b[0;34m)\u001b[0m\u001b[0;34m.\u001b[0m\u001b[0maddcmul_\u001b[0m\u001b[0;34m(\u001b[0m\u001b[0mgrad\u001b[0m\u001b[0;34m,\u001b[0m \u001b[0mgrad\u001b[0m\u001b[0;34m,\u001b[0m \u001b[0mvalue\u001b[0m\u001b[0;34m=\u001b[0m\u001b[0;36m1.0\u001b[0m \u001b[0;34m-\u001b[0m \u001b[0mbeta2\u001b[0m\u001b[0;34m)\u001b[0m\u001b[0;34m\u001b[0m\u001b[0;34m\u001b[0m\u001b[0m\n\u001b[0m\u001b[1;32m    351\u001b[0m                 \u001b[0mdenom\u001b[0m \u001b[0;34m=\u001b[0m \u001b[0mexp_avg_sq\u001b[0m\u001b[0;34m.\u001b[0m\u001b[0msqrt\u001b[0m\u001b[0;34m(\u001b[0m\u001b[0;34m)\u001b[0m\u001b[0;34m.\u001b[0m\u001b[0madd_\u001b[0m\u001b[0;34m(\u001b[0m\u001b[0mgroup\u001b[0m\u001b[0;34m[\u001b[0m\u001b[0;34m\"eps\"\u001b[0m\u001b[0;34m]\u001b[0m\u001b[0;34m)\u001b[0m\u001b[0;34m\u001b[0m\u001b[0;34m\u001b[0m\u001b[0m\n\u001b[1;32m    352\u001b[0m \u001b[0;34m\u001b[0m\u001b[0m\n",
            "\u001b[0;31mKeyboardInterrupt\u001b[0m: "
          ]
        }
      ]
    },
    {
      "cell_type": "markdown",
      "metadata": {
        "id": "oKNxLyzwGOZ2"
      },
      "source": [
        "## Evaluate"
      ]
    },
    {
      "cell_type": "code",
      "metadata": {
        "id": "HJH5dW_xUkM5"
      },
      "source": [
        "def evaluate(model, ds, config):\n",
        "    device = torch.device(\"cuda\" if torch.cuda.is_available() else \"cpu\")\n",
        "\n",
        "    num_labels = len(config[\"labels\"])\n",
        "    numeric_labels = list(range(num_labels))\n",
        "\n",
        "    test_loader = torch.utils.data.DataLoader(\n",
        "        ds,\n",
        "        batch_size=int(config[\"batch_size\"]),\n",
        "        shuffle=True\n",
        "    )\n",
        "    model.eval()\n",
        "\n",
        "    test_loss = 0\n",
        "    test_steps = 0\n",
        "    confusion = np.zeros([num_labels, num_labels])\n",
        "\n",
        "    for i, (input_ids, attention_mask, labels) in enumerate(test_loader):\n",
        "\n",
        "        with torch.no_grad():\n",
        "\n",
        "            output = model(\n",
        "                input_ids=input_ids.to(device),\n",
        "                attention_mask=attention_mask.to(device),\n",
        "                labels=labels.to(device)\n",
        "            )\n",
        "            loss, logits = output[\"loss\"], output[\"logits\"]\n",
        "\n",
        "            confusion += confusion_matrix(\n",
        "                y_true=labels.flatten().cpu(), \n",
        "                y_pred=torch.softmax(logits, -1).argmax(-1).cpu(), \n",
        "                labels=numeric_labels\n",
        "            )\n",
        "\n",
        "            test_loss += loss.cpu().numpy()\n",
        "            test_steps += 1\n",
        "\n",
        "    print(\"Test Results:\")\n",
        "    summary = dict(\n",
        "        model=config[\"model_name\"],\n",
        "        loss=(test_loss / test_steps),\n",
        "        accuracy=acc(confusion),\n",
        "        mcc=mcc(confusion)\n",
        "    )\n",
        "    print(summary)\n",
        "\n",
        "    return summary, confusion"
      ],
      "execution_count": null,
      "outputs": []
    },
    {
      "cell_type": "code",
      "metadata": {
        "id": "X19hq0o4EWLC"
      },
      "source": [
        "model = torch.load(f\"absa-{config['model_id'].replace('/', '_')}.pt\")\n",
        "train_set, test_set = load_data(config[\"model_id\"])\n",
        "\n",
        "summary, confusion = evaluate(model, test_set, config)"
      ],
      "execution_count": null,
      "outputs": []
    },
    {
      "cell_type": "code",
      "metadata": {
        "colab": {
          "base_uri": "https://localhost:8080/",
          "height": 653
        },
        "id": "ngmN7j_WrNdQ",
        "outputId": "8ee93162-3f41-4233-a810-8dfc763d4705"
      },
      "source": [
        "sns.set_theme(style=\"white\")\n",
        "plt.style.use(\"seaborn\")\n",
        "plt.rcParams.update({\n",
        "    \"figure.titlesize\": 30,\n",
        "    \"axes.titlesize\": 24,\n",
        "    \"axes.labelsize\": 20,\n",
        "    \"xtick.labelsize\": 16,\n",
        "    \"ytick.labelsize\": 16,\n",
        "    \"legend.title_fontsize\": 20,\n",
        "    \"legend.fontsize\": 16\n",
        "})\n",
        "\n",
        "labels = [\"none\", \"negative\", \"neutral\", \"positive\", \"conflict\"]\n",
        "\n",
        "# Set up the matplotlib figure\n",
        "fig, ax = plt.subplots(figsize=(11, 9))\n",
        "\n",
        "# Generate a custom diverging colormap\n",
        "cmap = sns.diverging_palette(230, 20, as_cmap=True)\n",
        "\n",
        "X = confusion / confusion.sum(1, keepdims=True)\n",
        "\n",
        "# Draw the heatmap with the mask and correct aspect ratio\n",
        "sns.heatmap(\n",
        "    pd.DataFrame(X, index=labels, columns=labels), \n",
        "    cmap=cmap, \n",
        "    center=0,\n",
        "    vmin=0,\n",
        "    vmax=1,\n",
        "    annot=True, \n",
        "    fmt=\".3f\",\n",
        "    linewidths=.5, \n",
        "    cbar_kws={\n",
        "        \"shrink\": .5\n",
        "    }\n",
        ")\n",
        "ax.set_title(\"Confusion Matrix for Test Set (distilbert)\")\n",
        "ax.set_xlabel(\"Truth\")\n",
        "ax.set_ylabel(\"Predicted\")\n",
        "plt.tight_layout()\n",
        "plt.show()"
      ],
      "execution_count": null,
      "outputs": [
        {
          "output_type": "display_data",
          "data": {
            "image/png": "[encoded data removed]",
            "text/plain": [
              "<Figure size 792x648 with 2 Axes>"
            ]
          },
          "metadata": {
            "tags": []
          }
        }
      ]
    },
    {
      "cell_type": "markdown",
      "metadata": {
        "id": "fQsrYg2Voepr"
      },
      "source": [
        "## Examples"
      ]
    },
    {
      "cell_type": "code",
      "metadata": {
        "id": "xdnz00lWstvn"
      },
      "source": [
        "class SentimentAnalyzer:\n",
        "\n",
        "    def __init__(self, model, model_name):\n",
        "        self.device = torch.device(\"cuda\" if torch.cuda.is_available() else \"cpu\")\n",
        "        self.model = model.to(self.device)\n",
        "        self.tokenizer = AutoTokenizer.from_pretrained(model_name)\n",
        "        self.aspects = [\"food\", \"service\", \"price\", \"ambience\", \"anecdotes\"]\n",
        "        self.labels = [\"none\", \"negative\", \"neutral\", \"positive\", \"conflict\"]\n",
        "\n",
        "    def __call__(self, text: str) -> dict:\n",
        "\n",
        "        encoded = self.tokenizer(\n",
        "            5*[text],\n",
        "            self.aspects,\n",
        "            padding=True,\n",
        "            truncation=True,\n",
        "            max_length=512,\n",
        "            return_tensors=\"pt\"\n",
        "        )\n",
        "\n",
        "        with torch.no_grad():\n",
        "            input_ids = encoded[\"input_ids\"].to(self.device)\n",
        "            attention_mask = encoded[\"attention_mask\"].to(self.device)\n",
        "\n",
        "            output = model(\n",
        "                input_ids=input_ids,\n",
        "                attention_mask=attention_mask\n",
        "            )\n",
        "            logits = output[\"logits\"]\n",
        "\n",
        "            predicted = torch.softmax(logits, -1).argmax(-1)\n",
        "            y_pred = predicted.cpu()\n",
        "\n",
        "        return {a: self.labels[y_pred[i]] for i, a in enumerate(self.aspects)}\n",
        "\n",
        "absa = SentimentAnalyzer(model, config[\"model_id\"])"
      ],
      "execution_count": null,
      "outputs": []
    },
    {
      "cell_type": "code",
      "metadata": {
        "id": "y7iumXYXSVe8"
      },
      "source": [
        "samples = [\n",
        "    \"We had a good time at the restaurant.\",\n",
        "    \"We had a good time at the restaurant. The food was delicious.\",\n",
        "    \"The waiter we had was horrible, but the food was amazing.\",\n",
        "    \"My girlfriend is still not even speaking to me after I took her on a date here last week. The food here was disgusting and the service was even worse. I will never in my life go back to this pizzeria.\",\n",
        "    \"My girlfriend is still not even speaking to me after I took her on a date here last week. The atmosphere was nice, but the food here was disgusting and the service was even worse. I will never in my life go back to this pizzeria.\",\n",
        "    \"My girlfriend is still not even speaking to me after I took her on a date here last week. Nevermind how expensive it was, the food was horrible and staff was very rude. The only redeeming quality was that the atmosphere was nice, however, I will never in my life go back to this pizzeria.\",\n",
        "    \"Nevermind how expensive it was, the food was horrible and staff was very rude.\"\n",
        "]\n",
        "\n",
        "pd.DataFrame([absa(s) for s in samples])"
      ],
      "execution_count": null,
      "outputs": []
    }
  ]
}